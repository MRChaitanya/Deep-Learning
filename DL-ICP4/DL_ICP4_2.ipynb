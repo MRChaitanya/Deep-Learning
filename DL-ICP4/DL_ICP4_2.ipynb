{
  "nbformat": 4,
  "nbformat_minor": 0,
  "metadata": {
    "colab": {
      "name": "DL-ICP4-2.ipynb",
      "provenance": []
    },
    "kernelspec": {
      "name": "python3",
      "display_name": "Python 3"
    }
  },
  "cells": [
    {
      "cell_type": "code",
      "metadata": {
        "id": "qibr1bkiUE7X",
        "colab_type": "code",
        "colab": {
          "base_uri": "https://localhost:8080/",
          "height": 121
        },
        "outputId": "e7b41ce1-8eaf-4236-b289-c68fba7c9134"
      },
      "source": [
        "from google.colab import drive\n",
        "drive.mount('/content/drive')"
      ],
      "execution_count": 1,
      "outputs": [
        {
          "output_type": "stream",
          "text": [
            "Go to this URL in a browser: https://accounts.google.com/o/oauth2/auth?client_id=947318989803-6bn6qk8qdgf4n4g3pfee6491hc0brc4i.apps.googleusercontent.com&redirect_uri=urn%3aietf%3awg%3aoauth%3a2.0%3aoob&response_type=code&scope=email%20https%3a%2f%2fwww.googleapis.com%2fauth%2fdocs.test%20https%3a%2f%2fwww.googleapis.com%2fauth%2fdrive%20https%3a%2f%2fwww.googleapis.com%2fauth%2fdrive.photos.readonly%20https%3a%2f%2fwww.googleapis.com%2fauth%2fpeopleapi.readonly\n",
            "\n",
            "Enter your authorization code:\n",
            "··········\n",
            "Mounted at /content/drive\n"
          ],
          "name": "stdout"
        }
      ]
    },
    {
      "cell_type": "code",
      "metadata": {
        "id": "msQI09G-UB81",
        "colab_type": "code",
        "colab": {
          "base_uri": "https://localhost:8080/",
          "height": 386
        },
        "outputId": "dc175070-6363-4b61-8c19-6c2506094979"
      },
      "source": [
        "import numpy\n",
        "import pandas as pd\n",
        "from keras.models import Sequential\n",
        "from keras.layers import Dense, Flatten, Dropout, Input, BatchNormalization\n",
        "from keras.constraints import maxnorm\n",
        "from keras.models import Model\n",
        "from keras.optimizers import SGD, Adam\n",
        "from keras.layers.convolutional import Conv2D, MaxPooling2D\n",
        "from keras.utils import np_utils\n",
        "from keras import backend as K\n",
        "K.common.image_dim_ordering()\n",
        "from PIL import Image\n",
        "from keras.utils import np_utils\n",
        "import glob\n",
        "import cv2\n",
        "train_images=[]\n",
        "import numpy as np\n",
        "\n",
        "seed = 7\n",
        "np.random.seed(seed)\n",
        "\n",
        "\t\n",
        "for filename in glob.glob('/content/drive/My Drive/Images/Car/*.jpg'):\n",
        "    img_normal = cv2.imread(filename)\n",
        "    output = cv2.resize(img_normal,(32,32))\n",
        "    train_images.append([output,0])\n",
        "\n",
        "for filename in glob.glob('/content/drive/My Drive/Images/Bus/*.jpg'):\n",
        "    img_normal = cv2.imread(filename)\n",
        "    output = cv2.resize(img_normal,(32,32))\n",
        "    train_images.append([output,1])\n",
        "\n",
        "for filename in glob.glob('/content/drive/My Drive/Images/Cat/*.jpg'):\n",
        "    img_normal = cv2.imread(filename)\n",
        "    output = cv2.resize(img_normal,(32,32))\n",
        "    train_images.append([output,2])\n",
        "\n",
        "for filename in glob.glob('/content/drive/My Drive/Images/Dog/*.jpg'):\n",
        "    img_normal = cv2.imread(filename)\n",
        "    output = cv2.resize(img_normal,(32,32))\n",
        "    train_images.append([output,3])\n",
        "\n",
        " \n",
        "import random\n",
        "random.shuffle(train_images)\n",
        "\n",
        "x_train=[]\n",
        "y_train=[]\n",
        "for im,label in train_images:\n",
        "  x_train.append(im)\n",
        "  y_train.append(label)\n",
        "  \n",
        "x_train=np.array(x_train).reshape(-1,32,32,3)\n",
        "\n",
        "type(x_train)\n",
        "x_train.shape\n",
        "x_train[0]\n",
        "\n",
        "test_images=[]\n",
        "for filename in glob.glob('/content/drive/My Drive/Images/Car/*.jpg'): \n",
        "    img_normal = cv2.imread(filename)\n",
        "    output = cv2.resize(img_normal, (32,32))\n",
        "    test_images.append([output,0])\n",
        "\t\n",
        "for filename in glob.glob('/content/drive/My Drive/Images/Bus/*.jpg'): \n",
        "    img_normal = cv2.imread(filename)\n",
        "    output = cv2.resize(img_normal, (32,32))\n",
        "    test_images.append([output,1])\n",
        "\t\n",
        "for filename in glob.glob('/content/drive/My Drive/Images/Cat/*.jpg'): \n",
        "    img_normal = cv2.imread(filename)\n",
        "    output = cv2.resize(img_normal, (32,32))\n",
        "    test_images.append([output,2])\n",
        "\n",
        "for filename in glob.glob('/content/drive/My Drive/Images/Dog/*.jpg'): \n",
        "    img_normal = cv2.imread(filename)\n",
        "    output = cv2.resize(img_normal, (32,32))\n",
        "    test_images.append([output,3])\n",
        "\n",
        "x_test=[]\n",
        "y_test=[]\n",
        "for im,label in test_images:\n",
        "  x_test.append(im)\n",
        "  y_test.append(label)\n",
        "\n",
        "  \n",
        "x_test=np.array(x_test).reshape(-1,32,32,3)\n",
        "\n",
        "x_train = x_train.astype('float32')\n",
        "x_test = x_test.astype('float32')\n",
        "x_train = x_train / 255.0\n",
        "x_test = x_test / 255.0\n",
        "\n",
        "y_train = np_utils.to_categorical(y_train)\n",
        "y_test = np_utils.to_categorical(y_test)\n",
        "\n",
        "num_classes = y_test.shape[1]\n",
        "\n",
        "model = Sequential()\n",
        "model.add(Conv2D(64, (3, 3), activation='relu', padding='same'))\n",
        "model.add(MaxPooling2D(pool_size=(2, 2)))\n",
        "model.add(Conv2D(128, (3, 3), input_shape=(x_train.shape[1:]), padding='same', activation='relu'))\n",
        "model.add(Dropout(0.2))\n",
        "model.add(Conv2D(256, (3, 3), activation='relu', padding='same'))\n",
        "model.add(MaxPooling2D(pool_size=(2, 2)))\n",
        "model.add(Conv2D(512, (3, 3), activation='relu', padding='same'))\n",
        "model.add(Dropout(0.2))\n",
        "model.add(Flatten())\n",
        "model.add(Dense(1024, activation='relu', kernel_constraint=maxnorm(3)))\n",
        "model.add(Dropout(0.2))\n",
        "model.add(Dense(num_classes, activation='softmax'))\n",
        "\n",
        "epochs = 10\n",
        "lrate = 0.001\n",
        "decay = lrate/epochs\n",
        "sgd = Adam(lr=lrate)\n",
        "model.compile(loss='categorical_crossentropy', optimizer=sgd, metrics=['accuracy'])\n",
        "\n",
        "model.fit(x_train, y_train, validation_data=(x_test, y_test), epochs=epochs, batch_size=128)\n",
        "\n",
        "import pickle\n",
        "with open(\"/content/drive/My Drive/Colab Notebooks/Chaitanya.pk2\",'wb') as file:\n",
        "      pickle.dump(model,file)\n",
        "\n",
        "\n",
        "x=model.predict_classes(x_train[[10],:])\n",
        "\n",
        "scores = model.evaluate(x_test, y_test, verbose=0)\n",
        "print(\"Accuracy: %.2f%%\" % (scores[1]*100))"
      ],
      "execution_count": 10,
      "outputs": [
        {
          "output_type": "stream",
          "text": [
            "Train on 12 samples, validate on 12 samples\n",
            "Epoch 1/10\n",
            "12/12 [==============================] - 1s 91ms/step - loss: 1.3972 - accuracy: 0.0833 - val_loss: 2.4259 - val_accuracy: 0.3333\n",
            "Epoch 2/10\n",
            "12/12 [==============================] - 1s 74ms/step - loss: 2.9582 - accuracy: 0.3333 - val_loss: 1.9173 - val_accuracy: 0.3333\n",
            "Epoch 3/10\n",
            "12/12 [==============================] - 1s 76ms/step - loss: 2.2831 - accuracy: 0.3333 - val_loss: 1.4106 - val_accuracy: 0.2500\n",
            "Epoch 4/10\n",
            "12/12 [==============================] - 1s 74ms/step - loss: 1.4332 - accuracy: 0.3333 - val_loss: 1.3806 - val_accuracy: 0.3333\n",
            "Epoch 5/10\n",
            "12/12 [==============================] - 1s 75ms/step - loss: 1.3816 - accuracy: 0.3333 - val_loss: 1.3618 - val_accuracy: 0.6667\n",
            "Epoch 6/10\n",
            "12/12 [==============================] - 1s 75ms/step - loss: 1.3637 - accuracy: 0.4167 - val_loss: 1.3134 - val_accuracy: 0.7500\n",
            "Epoch 7/10\n",
            "12/12 [==============================] - 1s 76ms/step - loss: 1.3081 - accuracy: 0.7500 - val_loss: 1.2084 - val_accuracy: 0.5000\n",
            "Epoch 8/10\n",
            "12/12 [==============================] - 1s 73ms/step - loss: 1.1934 - accuracy: 0.5833 - val_loss: 1.0762 - val_accuracy: 0.5833\n",
            "Epoch 9/10\n",
            "12/12 [==============================] - 1s 74ms/step - loss: 1.0652 - accuracy: 0.5833 - val_loss: 0.8586 - val_accuracy: 0.7500\n",
            "Epoch 10/10\n",
            "12/12 [==============================] - 1s 73ms/step - loss: 0.8347 - accuracy: 0.7500 - val_loss: 0.8300 - val_accuracy: 0.7500\n",
            "Accuracy: 75.00%\n"
          ],
          "name": "stdout"
        }
      ]
    },
    {
      "cell_type": "code",
      "metadata": {
        "id": "Q504RJR2V0wY",
        "colab_type": "code",
        "colab": {}
      },
      "source": [
        ""
      ],
      "execution_count": 0,
      "outputs": []
    },
    {
      "cell_type": "code",
      "metadata": {
        "id": "LKPGnfv9UKpU",
        "colab_type": "code",
        "colab": {
          "base_uri": "https://localhost:8080/",
          "height": 373
        },
        "outputId": "48485abf-92d8-4dc2-afb6-5123f95cd8dc"
      },
      "source": [
        "pip install flask gevent requests pillow"
      ],
      "execution_count": 11,
      "outputs": [
        {
          "output_type": "stream",
          "text": [
            "Requirement already satisfied: flask in /usr/local/lib/python3.6/dist-packages (1.1.2)\n",
            "Collecting gevent\n",
            "\u001b[?25l  Downloading https://files.pythonhosted.org/packages/a9/95/b53b78b15abbe547bed7381ca9c8319c86d6b646a30d0831e26c307a5fa7/gevent-1.5.0-cp36-cp36m-manylinux2010_x86_64.whl (5.1MB)\n",
            "\u001b[K     |████████████████████████████████| 5.1MB 2.8MB/s \n",
            "\u001b[?25hRequirement already satisfied: requests in /usr/local/lib/python3.6/dist-packages (2.21.0)\n",
            "Requirement already satisfied: pillow in /usr/local/lib/python3.6/dist-packages (7.0.0)\n",
            "Requirement already satisfied: click>=5.1 in /usr/local/lib/python3.6/dist-packages (from flask) (7.1.1)\n",
            "Requirement already satisfied: itsdangerous>=0.24 in /usr/local/lib/python3.6/dist-packages (from flask) (1.1.0)\n",
            "Requirement already satisfied: Jinja2>=2.10.1 in /usr/local/lib/python3.6/dist-packages (from flask) (2.11.2)\n",
            "Requirement already satisfied: Werkzeug>=0.15 in /usr/local/lib/python3.6/dist-packages (from flask) (1.0.1)\n",
            "Collecting greenlet>=0.4.14; platform_python_implementation == \"CPython\"\n",
            "\u001b[?25l  Downloading https://files.pythonhosted.org/packages/bf/45/142141aa47e01a5779f0fa5a53b81f8379ce8f2b1cd13df7d2f1d751ae42/greenlet-0.4.15-cp36-cp36m-manylinux1_x86_64.whl (41kB)\n",
            "\u001b[K     |████████████████████████████████| 51kB 5.4MB/s \n",
            "\u001b[?25hRequirement already satisfied: certifi>=2017.4.17 in /usr/local/lib/python3.6/dist-packages (from requests) (2020.4.5.1)\n",
            "Requirement already satisfied: urllib3<1.25,>=1.21.1 in /usr/local/lib/python3.6/dist-packages (from requests) (1.24.3)\n",
            "Requirement already satisfied: chardet<3.1.0,>=3.0.2 in /usr/local/lib/python3.6/dist-packages (from requests) (3.0.4)\n",
            "Requirement already satisfied: idna<2.9,>=2.5 in /usr/local/lib/python3.6/dist-packages (from requests) (2.8)\n",
            "Requirement already satisfied: MarkupSafe>=0.23 in /usr/local/lib/python3.6/dist-packages (from Jinja2>=2.10.1->flask) (1.1.1)\n",
            "Installing collected packages: greenlet, gevent\n",
            "Successfully installed gevent-1.5.0 greenlet-0.4.15\n"
          ],
          "name": "stdout"
        }
      ]
    },
    {
      "cell_type": "code",
      "metadata": {
        "id": "s8IvsJ4jWGJY",
        "colab_type": "code",
        "colab": {
          "base_uri": "https://localhost:8080/",
          "height": 118
        },
        "outputId": "10a26a52-20a6-40c0-da5e-d955b31dbbae"
      },
      "source": [
        "from werkzeug.utils import secure_filename\n",
        "import joblib\n",
        "from flask import Flask, request, render_template\n",
        "import cv2\n",
        "import numpy as np\n",
        "\n",
        "# Define a flask app\n",
        "app = Flask(__name__)\n",
        "\n",
        "def process_eval(imk):\n",
        "    output1 = cv2.resize(imk, (32,32))\n",
        "    output1 = output1.astype('float')\n",
        "    output1 /= 255.0\n",
        "    print(type(output1))\n",
        "    output1 = np.array(output1).reshape(-1, 32, 32, 3)\n",
        "    classifer = joblib.load(\"/content/drive/My Drive/Colab Notebooks/Chaitanya.pk2\")\n",
        "    x = classifer.predict_classes(output1[[0], :])\n",
        "    if x[0] == 0:\n",
        "        result = \"The image predicted is a car\"\n",
        "    elif x[0] ==1:\n",
        "        result = \"The image is predicted a Bus\"\n",
        "    elif x[0] ==2:\n",
        "        result = \"The image is predicted a cat\"\n",
        "    elif x[0] ==3:\n",
        "        result = \"The image is predicted a Dog\"\n",
        "    else:\n",
        "        result = \"Image not in trained model\"\n",
        "    return result\n",
        "\n",
        "@app.route('/', methods=['GET'])\n",
        "def index():\n",
        "   return render_template('index.html')\n",
        "\n",
        "@app.route('/', methods=['GET', 'POST'])\n",
        "def handle_form():\n",
        "    if request.method == 'POST':\n",
        "        file = request.files['file']\n",
        "        file.save(secure_filename(\"save.jpeg\"))\n",
        "        im=cv2.imread(\"save.jpeg\")\n",
        "        result=process_eval(im)\n",
        "        return render_template('index.html',result=result)\n",
        "\n",
        "if __name__ == \"__main__\":\n",
        "    app.run()\n",
        "\n"
      ],
      "execution_count": 21,
      "outputs": [
        {
          "output_type": "stream",
          "text": [
            " * Serving Flask app \"__main__\" (lazy loading)\n",
            " * Environment: production\n",
            "\u001b[31m   WARNING: This is a development server. Do not use it in a production deployment.\u001b[0m\n",
            "\u001b[2m   Use a production WSGI server instead.\u001b[0m\n",
            " * Debug mode: off\n"
          ],
          "name": "stdout"
        },
        {
          "output_type": "stream",
          "text": [
            " * Running on http://127.0.0.1:5000/ (Press CTRL+C to quit)\n"
          ],
          "name": "stderr"
        }
      ]
    }
  ]
}