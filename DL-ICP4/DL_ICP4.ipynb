{
  "nbformat": 4,
  "nbformat_minor": 0,
  "metadata": {
    "colab": {
      "name": "DL-ICP4.ipynb",
      "provenance": [],
      "collapsed_sections": [],
      "toc_visible": true
    },
    "kernelspec": {
      "name": "python3",
      "display_name": "Python 3"
    },
    "accelerator": "GPU"
  },
  "cells": [
    {
      "cell_type": "markdown",
      "metadata": {
        "id": "pWnbnDd1AqwK",
        "colab_type": "text"
      },
      "source": [
        "# Simple CNN model for CIFAR-10\n"
      ]
    },
    {
      "cell_type": "code",
      "metadata": {
        "id": "iYpSkpfkAJ9c",
        "colab_type": "code",
        "outputId": "67e59e7a-3a15-40d2-b53a-08359f9afcbd",
        "colab": {
          "base_uri": "https://localhost:8080/",
          "height": 50
        }
      },
      "source": [
        "import numpy\n",
        "import pandas as pd\n",
        "from keras.datasets import cifar10\n",
        "from keras.models import Sequential\n",
        "from keras.layers import Dense, Flatten, Dropout, Input, BatchNormalization\n",
        "from keras.constraints import maxnorm\n",
        "from keras.models import Model\n",
        "from keras.optimizers import SGD, Adam\n",
        "from keras.layers.convolutional import Conv2D, MaxPooling2D\n",
        "from keras.utils import np_utils\n",
        "from keras import backend as K\n",
        "K.common.image_dim_ordering()"
      ],
      "execution_count": 28,
      "outputs": [
        {
          "output_type": "stream",
          "text": [
            "Using TensorFlow backend.\n"
          ],
          "name": "stderr"
        },
        {
          "output_type": "execute_result",
          "data": {
            "text/plain": [
              "'tf'"
            ]
          },
          "metadata": {
            "tags": []
          },
          "execution_count": 28
        }
      ]
    },
    {
      "cell_type": "code",
      "metadata": {
        "id": "jirzEC6pHDNO",
        "colab_type": "code",
        "outputId": "cc7264c4-0fb7-4e88-d50f-e20615c50a14",
        "colab": {
          "base_uri": "https://localhost:8080/",
          "height": 121
        }
      },
      "source": [
        "from google.colab import drive\n",
        "drive.mount('/content/drive')"
      ],
      "execution_count": 0,
      "outputs": [
        {
          "output_type": "stream",
          "text": [
            "Go to this URL in a browser: https://accounts.google.com/o/oauth2/auth?client_id=947318989803-6bn6qk8qdgf4n4g3pfee6491hc0brc4i.apps.googleusercontent.com&redirect_uri=urn%3aietf%3awg%3aoauth%3a2.0%3aoob&response_type=code&scope=email%20https%3a%2f%2fwww.googleapis.com%2fauth%2fdocs.test%20https%3a%2f%2fwww.googleapis.com%2fauth%2fdrive%20https%3a%2f%2fwww.googleapis.com%2fauth%2fdrive.photos.readonly%20https%3a%2f%2fwww.googleapis.com%2fauth%2fpeopleapi.readonly\n",
            "\n",
            "Enter your authorization code:\n",
            "··········\n",
            "Mounted at /content/drive\n"
          ],
          "name": "stdout"
        }
      ]
    },
    {
      "cell_type": "markdown",
      "metadata": {
        "id": "DFTE1CTiAu8i",
        "colab_type": "text"
      },
      "source": [
        "fix random seed for reproducibility"
      ]
    },
    {
      "cell_type": "code",
      "metadata": {
        "id": "CwrqU_rIAjIf",
        "colab_type": "code",
        "colab": {}
      },
      "source": [
        "seed = 7\n",
        "numpy.random.seed(seed)"
      ],
      "execution_count": 0,
      "outputs": []
    },
    {
      "cell_type": "markdown",
      "metadata": {
        "id": "GJpsavCTA0Dj",
        "colab_type": "text"
      },
      "source": [
        "load data"
      ]
    },
    {
      "cell_type": "code",
      "metadata": {
        "id": "QCOqhYJqAxmj",
        "colab_type": "code",
        "outputId": "cab4bf80-6646-4df9-b46d-68309339d5ec",
        "colab": {
          "base_uri": "https://localhost:8080/",
          "height": 50
        }
      },
      "source": [
        "(X_train, y_train), (X_test, y_test) = cifar10.load_data()"
      ],
      "execution_count": 30,
      "outputs": [
        {
          "output_type": "stream",
          "text": [
            "Downloading data from https://www.cs.toronto.edu/~kriz/cifar-10-python.tar.gz\n",
            "170500096/170498071 [==============================] - 4s 0us/step\n"
          ],
          "name": "stdout"
        }
      ]
    },
    {
      "cell_type": "markdown",
      "metadata": {
        "id": "knMRFaZUBL8r",
        "colab_type": "text"
      },
      "source": [
        "normalize inputs from 0-255 to 0.0-1.0"
      ]
    },
    {
      "cell_type": "code",
      "metadata": {
        "id": "7YH35TxjBJIH",
        "colab_type": "code",
        "colab": {}
      },
      "source": [
        "X_train = X_train.astype('float32')\n",
        "X_test = X_test.astype('float32')\n",
        "X_train = X_train / 255.0\n",
        "X_test = X_test / 255.0"
      ],
      "execution_count": 0,
      "outputs": []
    },
    {
      "cell_type": "markdown",
      "metadata": {
        "id": "XIVTFI4SBTTU",
        "colab_type": "text"
      },
      "source": [
        "one hot encode outputs"
      ]
    },
    {
      "cell_type": "code",
      "metadata": {
        "id": "1ZqCaDjUBTwl",
        "colab_type": "code",
        "colab": {}
      },
      "source": [
        "y_train = np_utils.to_categorical(y_train)\n",
        "y_test = np_utils.to_categorical(y_test)\n",
        "num_classes = y_test.shape[1]\n",
        "dimData = (X_train.shape[1:])"
      ],
      "execution_count": 0,
      "outputs": []
    },
    {
      "cell_type": "markdown",
      "metadata": {
        "id": "9PXbifxcBXdv",
        "colab_type": "text"
      },
      "source": [
        "Create the model"
      ]
    },
    {
      "cell_type": "code",
      "metadata": {
        "id": "hzMT9b-lVb0D",
        "colab_type": "code",
        "colab": {}
      },
      "source": [
        "model = Sequential()\n",
        "model.add(Conv2D(128, (3, 3), input_shape=(X_train.shape[1:]), padding='same', activation='relu'))\n",
        "model.add(Dropout(0.5))\n",
        "model.add(Conv2D(256, (3, 3), activation='relu', padding='same'))\n",
        "model.add(MaxPooling2D(pool_size=(2, 2)))\n",
        "model.add(Dropout(0.5))\n",
        "model.add(Flatten())\n",
        "model.add(Dense(512, activation='relu', kernel_constraint=maxnorm(3)))\n",
        "model.add(Dropout(0.3))\n",
        "model.add(Dense(num_classes, activation='softmax'))\n",
        "\n",
        "epochs = 10\n",
        "lrate = 0.001\n",
        "decay = lrate/epochs\n",
        "sgd = Adam(lr=lrate)\n",
        "model.compile(loss='categorical_crossentropy', optimizer=sgd, metrics=['accuracy'])"
      ],
      "execution_count": 0,
      "outputs": []
    },
    {
      "cell_type": "code",
      "metadata": {
        "id": "jtxde6-XWBnn",
        "colab_type": "code",
        "outputId": "77cf296b-9f7e-4c0c-8343-04e4876f7150",
        "colab": {
          "base_uri": "https://localhost:8080/",
          "height": 470
        }
      },
      "source": [
        "print(model.summary())"
      ],
      "execution_count": 0,
      "outputs": [
        {
          "output_type": "stream",
          "text": [
            "Model: \"sequential_4\"\n",
            "_________________________________________________________________\n",
            "Layer (type)                 Output Shape              Param #   \n",
            "=================================================================\n",
            "conv2d_15 (Conv2D)           (None, 32, 32, 128)       3584      \n",
            "_________________________________________________________________\n",
            "dropout_16 (Dropout)         (None, 32, 32, 128)       0         \n",
            "_________________________________________________________________\n",
            "conv2d_16 (Conv2D)           (None, 32, 32, 256)       295168    \n",
            "_________________________________________________________________\n",
            "max_pooling2d_8 (MaxPooling2 (None, 16, 16, 256)       0         \n",
            "_________________________________________________________________\n",
            "dropout_17 (Dropout)         (None, 16, 16, 256)       0         \n",
            "_________________________________________________________________\n",
            "flatten_4 (Flatten)          (None, 65536)             0         \n",
            "_________________________________________________________________\n",
            "dense_9 (Dense)              (None, 512)               33554944  \n",
            "_________________________________________________________________\n",
            "dropout_18 (Dropout)         (None, 512)               0         \n",
            "_________________________________________________________________\n",
            "dense_10 (Dense)             (None, 10)                5130      \n",
            "=================================================================\n",
            "Total params: 33,858,826\n",
            "Trainable params: 33,858,826\n",
            "Non-trainable params: 0\n",
            "_________________________________________________________________\n",
            "None\n"
          ],
          "name": "stdout"
        }
      ]
    },
    {
      "cell_type": "code",
      "metadata": {
        "id": "WFgPqVHxWD5t",
        "colab_type": "code",
        "outputId": "ebdc0466-4eea-4916-9c97-9e873f726ce7",
        "colab": {
          "base_uri": "https://localhost:8080/",
          "height": 386
        }
      },
      "source": [
        "model.fit(X_train, y_train, validation_data=(X_test, y_test), epochs=epochs, batch_size=128)"
      ],
      "execution_count": 0,
      "outputs": [
        {
          "output_type": "stream",
          "text": [
            "Train on 50000 samples, validate on 10000 samples\n",
            "Epoch 1/10\n",
            "50000/50000 [==============================] - 17s 345us/step - loss: 1.9477 - accuracy: 0.2982 - val_loss: 1.5234 - val_accuracy: 0.4551\n",
            "Epoch 2/10\n",
            "50000/50000 [==============================] - 17s 341us/step - loss: 1.4801 - accuracy: 0.4664 - val_loss: 1.3009 - val_accuracy: 0.5370\n",
            "Epoch 3/10\n",
            "50000/50000 [==============================] - 17s 342us/step - loss: 1.3175 - accuracy: 0.5273 - val_loss: 1.1828 - val_accuracy: 0.5784\n",
            "Epoch 4/10\n",
            "50000/50000 [==============================] - 17s 341us/step - loss: 1.2295 - accuracy: 0.5600 - val_loss: 1.0967 - val_accuracy: 0.6122\n",
            "Epoch 5/10\n",
            "50000/50000 [==============================] - 17s 341us/step - loss: 1.1493 - accuracy: 0.5920 - val_loss: 1.0504 - val_accuracy: 0.6287\n",
            "Epoch 6/10\n",
            "50000/50000 [==============================] - 17s 342us/step - loss: 1.1081 - accuracy: 0.6084 - val_loss: 1.0408 - val_accuracy: 0.6328\n",
            "Epoch 7/10\n",
            "50000/50000 [==============================] - 17s 342us/step - loss: 1.0665 - accuracy: 0.6202 - val_loss: 0.9910 - val_accuracy: 0.6566\n",
            "Epoch 8/10\n",
            "50000/50000 [==============================] - 17s 341us/step - loss: 1.0231 - accuracy: 0.6363 - val_loss: 0.9457 - val_accuracy: 0.6677\n",
            "Epoch 9/10\n",
            "50000/50000 [==============================] - 17s 341us/step - loss: 0.9941 - accuracy: 0.6486 - val_loss: 0.9369 - val_accuracy: 0.6738\n",
            "Epoch 10/10\n",
            "50000/50000 [==============================] - 17s 341us/step - loss: 0.9671 - accuracy: 0.6586 - val_loss: 0.9286 - val_accuracy: 0.6753\n"
          ],
          "name": "stdout"
        },
        {
          "output_type": "execute_result",
          "data": {
            "text/plain": [
              "<keras.callbacks.callbacks.History at 0x7feb6b7cc668>"
            ]
          },
          "metadata": {
            "tags": []
          },
          "execution_count": 20
        }
      ]
    },
    {
      "cell_type": "code",
      "metadata": {
        "id": "0BUKjKj3WGAz",
        "colab_type": "code",
        "outputId": "d487d489-c2f4-4f85-8713-9af89dff4f9c",
        "colab": {
          "base_uri": "https://localhost:8080/",
          "height": 34
        }
      },
      "source": [
        "scores = model.evaluate(X_test, y_test, verbose=0)\n",
        "print(\"Accuracy: %.2f%%\" % (scores[1]*100))"
      ],
      "execution_count": 0,
      "outputs": [
        {
          "output_type": "stream",
          "text": [
            "Accuracy: 67.53%\n"
          ],
          "name": "stdout"
        }
      ]
    },
    {
      "cell_type": "code",
      "metadata": {
        "id": "42jnKJGpBV-I",
        "colab_type": "code",
        "colab": {}
      },
      "source": [
        "model = Sequential()\n",
        "model.add(Conv2D(32, (3, 3), input_shape=(X_train.shape[1:]), padding='same', activation='relu'))\n",
        "model.add(Dropout(0.2))\n",
        "\n",
        "model.add(Conv2D(32, (3, 3), activation='relu', padding='same'))\n",
        "model.add(MaxPooling2D(pool_size=(2, 2)))\n",
        "\n",
        "model.add(Conv2D(64, (3, 3), activation='relu', padding='same'))\n",
        "model.add(Dropout(0.2))\n",
        "\n",
        "model.add(Conv2D(64, (3, 3), activation='relu', padding='same'))\n",
        "model.add(MaxPooling2D(pool_size=(2, 2)))\n",
        "\n",
        "model.add(Conv2D(128, (3, 3), activation='relu', padding='same'))\n",
        "model.add(Dropout(0.2))\n",
        "\n",
        "model.add(Conv2D(128, (3, 3), activation='relu', padding='same'))\n",
        "model.add(MaxPooling2D(pool_size=(2, 2)))\n",
        "\n",
        "model.add(Flatten())\n",
        "model.add(Dropout(0.2))\n",
        "\n",
        "model.add(Dense(1024, activation='relu', kernel_constraint=maxnorm(3)))\n",
        "model.add(Dropout(0.2))\n",
        "\n",
        "model.add(Dense(512, activation='relu', kernel_constraint=maxnorm(3)))\n",
        "model.add(Dropout(0.2))\n",
        "\n",
        "model.add(Dense(num_classes, activation='softmax'))"
      ],
      "execution_count": 0,
      "outputs": []
    },
    {
      "cell_type": "markdown",
      "metadata": {
        "id": "Agtcn0FvBc50",
        "colab_type": "text"
      },
      "source": [
        "Compile model"
      ]
    },
    {
      "cell_type": "code",
      "metadata": {
        "id": "mU0e5-U7Ba2q",
        "colab_type": "code",
        "colab": {}
      },
      "source": [
        "epochs = 10\n",
        "lrate = 0.001\n",
        "decay = lrate/epochs\n",
        "sgd = Adam(lr=lrate)\n",
        "model.compile(loss='categorical_crossentropy', optimizer=sgd, metrics=['accuracy'])"
      ],
      "execution_count": 0,
      "outputs": []
    },
    {
      "cell_type": "code",
      "metadata": {
        "id": "jPAxsGBWBgPL",
        "colab_type": "code",
        "outputId": "c38865a3-372c-401d-bb06-b6b005dc7c7f",
        "colab": {
          "base_uri": "https://localhost:8080/",
          "height": 806
        }
      },
      "source": [
        "print(model.summary())"
      ],
      "execution_count": 0,
      "outputs": [
        {
          "output_type": "stream",
          "text": [
            "Model: \"sequential_6\"\n",
            "_________________________________________________________________\n",
            "Layer (type)                 Output Shape              Param #   \n",
            "=================================================================\n",
            "conv2d_23 (Conv2D)           (None, 32, 32, 32)        896       \n",
            "_________________________________________________________________\n",
            "dropout_25 (Dropout)         (None, 32, 32, 32)        0         \n",
            "_________________________________________________________________\n",
            "conv2d_24 (Conv2D)           (None, 32, 32, 32)        9248      \n",
            "_________________________________________________________________\n",
            "max_pooling2d_12 (MaxPooling (None, 16, 16, 32)        0         \n",
            "_________________________________________________________________\n",
            "conv2d_25 (Conv2D)           (None, 16, 16, 64)        18496     \n",
            "_________________________________________________________________\n",
            "dropout_26 (Dropout)         (None, 16, 16, 64)        0         \n",
            "_________________________________________________________________\n",
            "conv2d_26 (Conv2D)           (None, 16, 16, 64)        36928     \n",
            "_________________________________________________________________\n",
            "max_pooling2d_13 (MaxPooling (None, 8, 8, 64)          0         \n",
            "_________________________________________________________________\n",
            "conv2d_27 (Conv2D)           (None, 8, 8, 128)         73856     \n",
            "_________________________________________________________________\n",
            "dropout_27 (Dropout)         (None, 8, 8, 128)         0         \n",
            "_________________________________________________________________\n",
            "conv2d_28 (Conv2D)           (None, 8, 8, 128)         147584    \n",
            "_________________________________________________________________\n",
            "max_pooling2d_14 (MaxPooling (None, 4, 4, 128)         0         \n",
            "_________________________________________________________________\n",
            "flatten_6 (Flatten)          (None, 2048)              0         \n",
            "_________________________________________________________________\n",
            "dropout_28 (Dropout)         (None, 2048)              0         \n",
            "_________________________________________________________________\n",
            "dense_14 (Dense)             (None, 1024)              2098176   \n",
            "_________________________________________________________________\n",
            "dropout_29 (Dropout)         (None, 1024)              0         \n",
            "_________________________________________________________________\n",
            "dense_15 (Dense)             (None, 512)               524800    \n",
            "_________________________________________________________________\n",
            "dropout_30 (Dropout)         (None, 512)               0         \n",
            "_________________________________________________________________\n",
            "dense_16 (Dense)             (None, 10)                5130      \n",
            "=================================================================\n",
            "Total params: 2,915,114\n",
            "Trainable params: 2,915,114\n",
            "Non-trainable params: 0\n",
            "_________________________________________________________________\n",
            "None\n"
          ],
          "name": "stdout"
        }
      ]
    },
    {
      "cell_type": "markdown",
      "metadata": {
        "id": "vI3s6IHMBogK",
        "colab_type": "text"
      },
      "source": [
        "Fit the model"
      ]
    },
    {
      "cell_type": "code",
      "metadata": {
        "id": "hFS521-iBh-n",
        "colab_type": "code",
        "outputId": "cfd58a16-5ebd-42bc-a1d2-271e8eb1aacb",
        "colab": {
          "base_uri": "https://localhost:8080/",
          "height": 386
        }
      },
      "source": [
        "model.fit(X_train, y_train, validation_data=(X_test, y_test), epochs=epochs, batch_size=128)"
      ],
      "execution_count": 0,
      "outputs": [
        {
          "output_type": "stream",
          "text": [
            "Train on 50000 samples, validate on 10000 samples\n",
            "Epoch 1/10\n",
            "50000/50000 [==============================] - 6s 126us/step - loss: 1.7255 - accuracy: 0.3554 - val_loss: 1.3811 - val_accuracy: 0.4947\n",
            "Epoch 2/10\n",
            "50000/50000 [==============================] - 6s 119us/step - loss: 1.2515 - accuracy: 0.5476 - val_loss: 1.0950 - val_accuracy: 0.6068\n",
            "Epoch 3/10\n",
            "50000/50000 [==============================] - 6s 119us/step - loss: 1.0301 - accuracy: 0.6360 - val_loss: 0.9567 - val_accuracy: 0.6590\n",
            "Epoch 4/10\n",
            "50000/50000 [==============================] - 6s 119us/step - loss: 0.8873 - accuracy: 0.6853 - val_loss: 0.8523 - val_accuracy: 0.7000\n",
            "Epoch 5/10\n",
            "50000/50000 [==============================] - 6s 119us/step - loss: 0.7828 - accuracy: 0.7249 - val_loss: 0.7601 - val_accuracy: 0.7349\n",
            "Epoch 6/10\n",
            "50000/50000 [==============================] - 6s 119us/step - loss: 0.7083 - accuracy: 0.7524 - val_loss: 0.7128 - val_accuracy: 0.7534\n",
            "Epoch 7/10\n",
            "50000/50000 [==============================] - 6s 119us/step - loss: 0.6470 - accuracy: 0.7718 - val_loss: 0.6666 - val_accuracy: 0.7676\n",
            "Epoch 8/10\n",
            "50000/50000 [==============================] - 6s 119us/step - loss: 0.5918 - accuracy: 0.7925 - val_loss: 0.6737 - val_accuracy: 0.7701\n",
            "Epoch 9/10\n",
            "50000/50000 [==============================] - 6s 119us/step - loss: 0.5516 - accuracy: 0.8055 - val_loss: 0.6561 - val_accuracy: 0.7789\n",
            "Epoch 10/10\n",
            "50000/50000 [==============================] - 6s 119us/step - loss: 0.5111 - accuracy: 0.8201 - val_loss: 0.6483 - val_accuracy: 0.7841\n"
          ],
          "name": "stdout"
        },
        {
          "output_type": "execute_result",
          "data": {
            "text/plain": [
              "<keras.callbacks.callbacks.History at 0x7feb6ae838d0>"
            ]
          },
          "metadata": {
            "tags": []
          },
          "execution_count": 30
        }
      ]
    },
    {
      "cell_type": "markdown",
      "metadata": {
        "id": "b5c_zYozCLFF",
        "colab_type": "text"
      },
      "source": [
        "Final evaluation of the model"
      ]
    },
    {
      "cell_type": "code",
      "metadata": {
        "id": "j7l-gnT2Bt1O",
        "colab_type": "code",
        "outputId": "9b9112c6-8a75-431f-e15e-242a7cdfe13a",
        "colab": {
          "base_uri": "https://localhost:8080/",
          "height": 34
        }
      },
      "source": [
        "scores = model.evaluate(X_test, y_test, verbose=0)\n",
        "print(\"Accuracy: %.2f%%\" % (scores[1]*100))"
      ],
      "execution_count": 0,
      "outputs": [
        {
          "output_type": "stream",
          "text": [
            "Accuracy: 78.41%\n"
          ],
          "name": "stdout"
        }
      ]
    },
    {
      "cell_type": "code",
      "metadata": {
        "id": "Fn8ZhCuvEKFM",
        "colab_type": "code",
        "colab": {}
      },
      "source": [
        "import tensorflow as tf\n",
        "\n",
        "inputs = tf.keras.Input(shape=dimData,)\n",
        "x = tf.keras.layers.Conv2D(32, (3, 3), input_shape=(X_train.shape[1:]), padding='same', activation='relu')(inputs)\n",
        "y = tf.keras.layers.Conv2D(64, (3, 3), activation='relu', padding='same')(x)\n",
        "z=  tf.keras.layers.Conv2D(128, (3, 3), activation='relu', padding='same')(y)\n",
        "a = tf.keras.layers.Conv2D(256, (3, 3), activation='relu', padding='same')(z)\n",
        "b = tf.keras.layers.Dense(1024, activation='relu', kernel_constraint=maxnorm(3))(a)\n",
        "outputs = tf.keras.layers.Dense(num_classes, activation=tf.nn.softmax)(b)\n",
        "model = tf.keras.Model(inputs=inputs, outputs=outputs)"
      ],
      "execution_count": 0,
      "outputs": []
    },
    {
      "cell_type": "code",
      "metadata": {
        "id": "044NdRUwS3Qn",
        "colab_type": "code",
        "colab": {}
      },
      "source": [
        "from keras.models import Model\n",
        "from keras.layers import Input\n",
        "from keras.layers import Dense\n",
        "from keras.layers import Flatten\n",
        "from keras.layers.convolutional import Conv2D\n",
        "from keras.layers.pooling import MaxPooling2D\n",
        "visible = Input(shape=dimData)\n",
        "conv1 = Conv2D(32, kernel_size=4, activation='relu')(visible)\n",
        "pool1 = MaxPooling2D(pool_size=(3, 3))(conv1)\n",
        "conv2 = Conv2D(64, kernel_size=4, activation='relu')(pool1)\n",
        "pool2 = MaxPooling2D(pool_size=(3, 3))(conv2)\n",
        "flat = Flatten()(pool2)\n",
        "hidden1 = Dense(10, activation='relu')(flat)\n",
        "output = Dense(num_classes, activation='sigmoid')(hidden1)\n",
        "model = Model(inputs=visible, outputs=output)"
      ],
      "execution_count": 0,
      "outputs": []
    },
    {
      "cell_type": "code",
      "metadata": {
        "id": "WCbyWoOJMn3m",
        "colab_type": "code",
        "outputId": "2d7b99a8-c420-4a45-889a-b5be93b5766f",
        "colab": {
          "base_uri": "https://localhost:8080/",
          "height": 437
        }
      },
      "source": [
        "model.compile(optimizer='sgd', loss='categorical_crossentropy', metrics=['accuracy'])\n",
        "print(model.summary())"
      ],
      "execution_count": 0,
      "outputs": [
        {
          "output_type": "stream",
          "text": [
            "Model: \"model_2\"\n",
            "_________________________________________________________________\n",
            "Layer (type)                 Output Shape              Param #   \n",
            "=================================================================\n",
            "input_2 (InputLayer)         (None, 32, 32, 3)         0         \n",
            "_________________________________________________________________\n",
            "conv2d_3 (Conv2D)            (None, 29, 29, 32)        1568      \n",
            "_________________________________________________________________\n",
            "max_pooling2d_3 (MaxPooling2 (None, 9, 9, 32)          0         \n",
            "_________________________________________________________________\n",
            "conv2d_4 (Conv2D)            (None, 6, 6, 64)          32832     \n",
            "_________________________________________________________________\n",
            "max_pooling2d_4 (MaxPooling2 (None, 2, 2, 64)          0         \n",
            "_________________________________________________________________\n",
            "flatten_2 (Flatten)          (None, 256)               0         \n",
            "_________________________________________________________________\n",
            "dense_3 (Dense)              (None, 10)                2570      \n",
            "_________________________________________________________________\n",
            "dense_4 (Dense)              (None, 10)                110       \n",
            "=================================================================\n",
            "Total params: 37,080\n",
            "Trainable params: 37,080\n",
            "Non-trainable params: 0\n",
            "_________________________________________________________________\n",
            "None\n"
          ],
          "name": "stdout"
        }
      ]
    },
    {
      "cell_type": "code",
      "metadata": {
        "id": "61tCEWqiQDot",
        "colab_type": "code",
        "outputId": "72b0e076-7740-4140-aeaf-fada1b5bf96b",
        "colab": {
          "base_uri": "https://localhost:8080/",
          "height": 386
        }
      },
      "source": [
        "model.fit(X_train, y_train, validation_data=(X_test, y_test), epochs=10, batch_size=256)\n",
        "scores = model.evaluate(X_test, y_test, verbose=0)\n",
        "print(\"Accuracy: %.2f%%\" % (scores[1]*100))\n"
      ],
      "execution_count": 0,
      "outputs": [
        {
          "output_type": "stream",
          "text": [
            "Train on 50000 samples, validate on 10000 samples\n",
            "Epoch 1/10\n",
            "50000/50000 [==============================] - 2s 45us/step - loss: 2.3023 - accuracy: 0.1098 - val_loss: 2.3015 - val_accuracy: 0.1122\n",
            "Epoch 2/10\n",
            "50000/50000 [==============================] - 2s 40us/step - loss: 2.3008 - accuracy: 0.1074 - val_loss: 2.3004 - val_accuracy: 0.1094\n",
            "Epoch 3/10\n",
            "50000/50000 [==============================] - 2s 39us/step - loss: 2.2996 - accuracy: 0.1084 - val_loss: 2.2991 - val_accuracy: 0.1108\n",
            "Epoch 4/10\n",
            "50000/50000 [==============================] - 2s 39us/step - loss: 2.2983 - accuracy: 0.1157 - val_loss: 2.2977 - val_accuracy: 0.1145\n",
            "Epoch 5/10\n",
            "50000/50000 [==============================] - 2s 40us/step - loss: 2.2967 - accuracy: 0.1224 - val_loss: 2.2960 - val_accuracy: 0.1219\n",
            "Epoch 6/10\n",
            "50000/50000 [==============================] - 2s 38us/step - loss: 2.2947 - accuracy: 0.1263 - val_loss: 2.2937 - val_accuracy: 0.1233\n",
            "Epoch 7/10\n",
            "50000/50000 [==============================] - 2s 39us/step - loss: 2.2922 - accuracy: 0.1295 - val_loss: 2.2908 - val_accuracy: 0.1251\n",
            "Epoch 8/10\n",
            "50000/50000 [==============================] - 2s 39us/step - loss: 2.2888 - accuracy: 0.1298 - val_loss: 2.2869 - val_accuracy: 0.1295\n",
            "Epoch 9/10\n",
            "50000/50000 [==============================] - 2s 39us/step - loss: 2.2845 - accuracy: 0.1291 - val_loss: 2.2820 - val_accuracy: 0.1327\n",
            "Epoch 10/10\n",
            "50000/50000 [==============================] - 2s 39us/step - loss: 2.2787 - accuracy: 0.1330 - val_loss: 2.2752 - val_accuracy: 0.1316\n",
            "Accuracy: 13.16%\n"
          ],
          "name": "stdout"
        }
      ]
    },
    {
      "cell_type": "code",
      "metadata": {
        "id": "uf5oKALjCOoY",
        "colab_type": "code",
        "outputId": "0675cf51-69da-4597-b52d-99a42b4676dc",
        "colab": {
          "base_uri": "https://localhost:8080/",
          "height": 168
        }
      },
      "source": [
        "import numpy as np\n",
        "import pandas as pd\n",
        "prediction = pd.DataFrame()\n",
        "imageid = []\n",
        "for i in range(len(X_test)):\n",
        "    i = i + 1\n",
        "    imageid.append(i)\n",
        "prediction[\"ImageId\"] = imageid\n",
        "prediction[\"Predicted Label\"] = model.predict_classes(X_test, verbose=0)\n",
        "print(prediction.head())\n",
        "\n",
        "a  = np.array(y_test[0:4])\n",
        "print('Actual labels for first four images: {0}'.format(np.argmax(a, axis=1)))\n",
        "predictions = model.predict(X_test)\n",
        "print(predictions[0])"
      ],
      "execution_count": 0,
      "outputs": [
        {
          "output_type": "stream",
          "text": [
            "   ImageId  Predicted Label\n",
            "0        1                3\n",
            "1        2                8\n",
            "2        3                8\n",
            "3        4                0\n",
            "4        5                6\n",
            "Actual labels for first four images: [3 8 8 0]\n",
            "[2.5528253e-04 5.5569075e-05 3.3130951e-04 5.8214575e-01 9.4576267e-04\n",
            " 4.1085315e-01 5.0142957e-03 1.6433717e-04 2.0095291e-04 3.3607543e-05]\n"
          ],
          "name": "stdout"
        }
      ]
    }
  ]
}